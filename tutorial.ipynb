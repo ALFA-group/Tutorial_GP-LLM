{
 "cells": [
  {
   "cell_type": "code",
   "execution_count": 1,
   "metadata": {},
   "outputs": [],
   "source": [
    "import logging\n",
    "\n",
    "from dotenv import load_dotenv\n",
    "\n",
    "from main import main as tutorial_gp_main, analyse"
   ]
  },
  {
   "cell_type": "code",
   "execution_count": 2,
   "metadata": {},
   "outputs": [],
   "source": [
    "logger = logging.getLogger()\n",
    "logger.setLevel(logging.INFO)"
   ]
  },
  {
   "cell_type": "code",
   "execution_count": 3,
   "metadata": {},
   "outputs": [
    {
     "data": {
      "text/plain": [
       "True"
      ]
     },
     "execution_count": 3,
     "metadata": {},
     "output_type": "execute_result"
    }
   ],
   "source": [
    "# Load the environment variables from .env\n",
    "load_dotenv()"
   ]
  },
  {
   "cell_type": "markdown",
   "metadata": {},
   "source": [
    "## Run Tutorial GP"
   ]
  },
  {
   "cell_type": "code",
   "execution_count": 4,
   "metadata": {},
   "outputs": [
    {
     "name": "stderr",
     "output_type": "stream",
     "text": [
      "INFO:root:ARGS: {'fitness_function': {'name': 'alfa_ec_llm.problem_environments.symbolic_regression.SymbolicRegressionGP', 'fitness_cases_file': 'tests/data/fitness_cases.csv', 'test_train_split': 0.7, 'arities': {'+': 2, '*': 2, '-': 2}, 'constants': {'values': '0, 1'}}, 'population_size': 2, 'max_depth': 5, 'elite_size': 1, 'generations': 2, 'tournament_size': 2, 'seed': 1, 'crossover_probability': 0.8, 'mutation_probability': 0.2, 'output_dir': 'results_gp', 'algorithm': 'tutorial_gp'}\n",
      "INFO:root:Use TutorialGP\n",
      "INFO:root:Setting random seed: 1 0.13436\n",
      "INFO:root:{'name': 'alfa_ec_llm.problem_environments.symbolic_regression.SymbolicRegressionGP', 'fitness_cases_file': 'tests/data/fitness_cases.csv', 'test_train_split': 0.7, 'arities': {'+': 2, '*': 2, '-': 2}, 'constants': {'values': '0, 1'}}\n",
      "INFO:root:Reading: tests/data/fitness_cases.csv headers: ['# x0', 'x1', 'y'] exemplars: 121\n",
      "INFO:root:Gen:0 t:0.035 fit_ave:-652.24+-0.000 length_ave:1.00+-0.000 Ind: ['0.0']; -652.2388059701492\n",
      "INFO:root:Gen:1 t:0.036 fit_ave:-652.24+-0.000 length_ave:1.00+-0.000 Ind: ['0.0']; -652.2388059701492\n",
      "INFO:root:Cache entries:1 Total Fitness Evaluations:8 Fitness Values:1\n"
     ]
    },
    {
     "name": "stdout",
     "output_type": "stream",
     "text": [
      "GP settings:\n",
      "{'fitness_function': {'name': 'alfa_ec_llm.problem_environments.symbolic_regression.SymbolicRegressionGP', 'fitness_cases_file': 'tests/data/fitness_cases.csv', 'test_train_split': 0.7, 'arities': {'+': 2, '*': 2, '-': 2, 'x0': 0, 'x1': 0, '0.0': 0, '1.0': 0}, 'constants': [0.0, 1.0]}, 'population_size': 2, 'max_depth': 5, 'elite_size': 1, 'generations': 2, 'tournament_size': 2, 'seed': 1, 'crossover_probability': 0.8, 'mutation_probability': 0.2, 'output_dir': 'results_gp', 'algorithm': 'tutorial_gp', 'symbols': {'arities': {'+': 2, '*': 2, '-': 2, 'x0': 0, 'x1': 0, '0.0': 0, '1.0': 0}, 'terminals': ['x0', 'x1', '0.0', '1.0'], 'functions': ['+', '*', '-']}}\n"
     ]
    }
   ],
   "source": [
    "args = [\"--configuration_file\", \"tests/configurations/tutorial_gp_sr.yml\", \"--algorithm\", \"tutorial_gp\", \"--output\", \"results_gp\"]\n",
    "_, cli_args = tutorial_gp_main(args)"
   ]
  },
  {
   "cell_type": "code",
   "execution_count": 5,
   "metadata": {},
   "outputs": [
    {
     "name": "stderr",
     "output_type": "stream",
     "text": [
      "INFO:root:Analyse results\n",
      "INFO:root:BEGIN Namespace(configuration_file='tests/configurations/tutorial_gp_sr.yml', solutions_file='results_gp/alfa_ec_llm_solution_values.json', fitness_file='results_gp/alfa_ec_llm_fitness_values.json')\n",
      "INFO:root:Setting random seed: 1720845407 0.62706\n",
      "INFO:root:{'name': 'alfa_ec_llm.problem_environments.symbolic_regression.SymbolicRegressionGP', 'fitness_cases_file': 'tests/data/fitness_cases.csv', 'test_train_split': 0.7, 'arities': {'+': 2, '*': 2, '-': 2}, 'constants': {'values': '0, 1'}}\n",
      "INFO:root:Reading: tests/data/fitness_cases.csv headers: ['# x0', 'x1', 'y'] exemplars: 121\n",
      "INFO:root:Analysed results in: results_gp/holdout_alfa_ec_llm_fitness_values.jsonl\n",
      "INFO:root:Results top 2 generation 1:\n",
      "   generation  rank solution  test_fitness  train_fitness\n",
      "2           1     0    [0.0]   -342.916667    -652.238806\n",
      "3           1     1    [0.0]   -342.916667    -652.238806\n",
      "INFO:root:Best rank 0 generation 1:\n",
      "  solution  test_fitness  train_fitness\n",
      "2    [0.0]   -342.916667    -652.238806\n"
     ]
    }
   ],
   "source": [
    "analyse(vars(cli_args))"
   ]
  },
  {
   "cell_type": "markdown",
   "metadata": {},
   "source": [
    "## Run Tutorial GP_LLM"
   ]
  },
  {
   "cell_type": "code",
   "execution_count": 6,
   "metadata": {},
   "outputs": [
    {
     "name": "stderr",
     "output_type": "stream",
     "text": [
      "INFO:root:ARGS: {'fitness_function': {'name': 'alfa_ec_llm.problem_environments.symbolic_regression.SymbolicRegressionGPPlusSomeLLMConstrainedFewShot', 'fitness_cases_file': 'tests/data/fitness_cases.csv', 'test_train_split': 0.7, 'n_exemplars': 10, 'n_shots': 2, 'arities': {'+': 2, '*': 2, '-': 2}, 'constants': [0, 1]}, 'population_size': 2, 'max_depth': 5, 'elite_size': 1, 'generations': 2, 'tournament_size': 2, 'seed': 1, 'crossover_probability': 0.8, 'mutation_probability': 0.2, 'output_dir': 'results_gp_llm', 'algorithm': 'tutorial_llm_gp_mu_xo'}\n",
      "INFO:root:Use TutorialLLMGPMuXo\n",
      "INFO:root:Setting random seed: 1 0.13436\n",
      "INFO:root:Reading: tests/data/fitness_cases.csv headers: ['# x0', 'x1', 'y'] exemplars: 121\n",
      "INFO:httpx:HTTP Request: POST https://api.openai.com/v1/chat/completions \"HTTP/1.1 200 OK\"\n",
      "INFO:httpx:HTTP Request: POST https://api.openai.com/v1/chat/completions \"HTTP/1.1 200 OK\"\n",
      "INFO:root:Gen:0 t:0.088 fit_ave:-298.70+-5.500 length_ave:12.00+-1.000 Ind: x1 + 0 - 1*x0; -293.2\n",
      "INFO:httpx:HTTP Request: POST https://api.openai.com/v1/chat/completions \"HTTP/1.1 200 OK\"\n",
      "INFO:httpx:HTTP Request: POST https://api.openai.com/v1/chat/completions \"HTTP/1.1 200 OK\"\n",
      "INFO:root:Gen:1 t:1.873 fit_ave:-293.20+-0.000 length_ave:11.00+-2.000 Ind: x1 + 0 - 1*x0; -293.2\n",
      "INFO:root:Cache entries:3 Total Fitness Evaluations:8 Fitness Values:2\n"
     ]
    }
   ],
   "source": [
    "args = [\"--configuration_file\", \"tests/configurations/tutorial_llm_gp_sr.yml\", \"--algorithm\", \"tutorial_llm_gp_mu_xo\", \"--output\", \"results_gp_llm\"]\n",
    "_, cli_args = tutorial_gp_main(args)"
   ]
  },
  {
   "cell_type": "code",
   "execution_count": 7,
   "metadata": {},
   "outputs": [
    {
     "name": "stderr",
     "output_type": "stream",
     "text": [
      "INFO:root:Analyse results\n",
      "INFO:root:BEGIN Namespace(configuration_file='tests/configurations/tutorial_llm_gp_sr.yml', solutions_file='results_gp_llm/alfa_ec_llm_solution_values.json', fitness_file='results_gp_llm/alfa_ec_llm_fitness_values.json')\n",
      "INFO:root:Setting random seed: 1720845411 0.74094\n",
      "INFO:root:Reading: tests/data/fitness_cases.csv headers: ['# x0', 'x1', 'y'] exemplars: 121\n",
      "INFO:root:Reading: tests/data/fitness_cases.csv headers: ['# x0', 'x1', 'y'] exemplars: 121\n",
      "INFO:root:Analysed results in: results_gp_llm/holdout_alfa_ec_llm_fitness_values.jsonl\n",
      "INFO:root:Results top 2 generation 1:\n",
      "   generation  rank       solution  test_fitness  train_fitness\n",
      "2           1     0  x1 + 0 - 1*x0       -663.65         -293.2\n",
      "3           1     1      x1 - 1*x0       -663.65         -293.2\n",
      "INFO:root:Best rank 0 generation 1:\n",
      "        solution  test_fitness  train_fitness\n",
      "2  x1 + 0 - 1*x0       -663.65         -293.2\n"
     ]
    }
   ],
   "source": [
    "analyse(vars(cli_args))"
   ]
  }
 ],
 "metadata": {
  "kernelspec": {
   "display_name": "R1_ELM_GPEM",
   "language": "python",
   "name": "python3"
  },
  "language_info": {
   "codemirror_mode": {
    "name": "ipython",
    "version": 3
   },
   "file_extension": ".py",
   "mimetype": "text/x-python",
   "name": "python",
   "nbconvert_exporter": "python",
   "pygments_lexer": "ipython3",
   "version": "3.9.16"
  }
 },
 "nbformat": 4,
 "nbformat_minor": 2
}
